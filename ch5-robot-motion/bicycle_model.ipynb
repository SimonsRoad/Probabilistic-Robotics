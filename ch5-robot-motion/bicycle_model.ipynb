{
 "cells": [
  {
   "cell_type": "code",
   "execution_count": 1,
   "metadata": {},
   "outputs": [],
   "source": [
    "import numpy as np\n",
    "from math import sin, cos, tan, pi, sqrt\n",
    "import matplotlib.pyplot as plt"
   ]
  },
  {
   "cell_type": "code",
   "execution_count": 2,
   "metadata": {},
   "outputs": [],
   "source": [
    "l = 0.1  # m\n",
    "delta_t = 1.  # sec"
   ]
  },
  {
   "cell_type": "code",
   "execution_count": 3,
   "metadata": {},
   "outputs": [],
   "source": [
    "def sample_normal_distribution(b):\n",
    "    \"\"\"\n",
    "    sample normal distribution with 0 mean, variance b\n",
    "    \"\"\"\n",
    "    rand = np.random.uniform(low=-1.0, high=1.0, size=12)\n",
    "    return b * np.sum(rand) / 6"
   ]
  },
  {
   "cell_type": "code",
   "execution_count": 4,
   "metadata": {},
   "outputs": [],
   "source": [
    "def sample_bicycle_motion_model(x_tm1, u):\n",
    "    \"\"\"\n",
    "    Sample bicycle's velocity motion model\n",
    "    Input:\n",
    "        x_tm1 (np.ndarray) - shape 3,: previous pose\n",
    "        u (np.ndarray) - shape 2,: command (v, alpha)\n",
    "    \"\"\"\n",
    "    v, alpha = u\n",
    "    x, y, theta = x_tm1\n",
    "    \n",
    "    # perturbe command signal\n",
    "    sigma_v = 0.5 * v\n",
    "    sigma_alpha = 25. * pi / 180.\n",
    "    v_hat = v + sample_normal_distribution(sigma_v**2)\n",
    "    alpha_hat = alpha + sample_normal_distribution(sigma_alpha**2)\n",
    "    \n",
    "    # generate sample\n",
    "    x_p = x + v_hat * delta_t * (cos(theta) - tan(alpha_hat) * sin(theta))\n",
    "    y_p = y + v_hat * delta_t * (sin(theta) + tan(alpha_hat) * cos(theta))\n",
    "    theta_p = theta + v_hat * delta_t * tan(alpha_hat) / l\n",
    "    \n",
    "    return np.array([x_p, y_p, theta_p])"
   ]
  },
  {
   "cell_type": "code",
   "execution_count": 5,
   "metadata": {},
   "outputs": [],
   "source": [
    "# initial pose\n",
    "x_tm1 = np.array([0., 0., pi/4])\n",
    "u_t = np.array([sqrt(2.), 0.])\n",
    "sample = [sample_bicycle_motion_model(x_tm1, u_t) for i in range(500)]"
   ]
  },
  {
   "cell_type": "code",
   "execution_count": 6,
   "metadata": {},
   "outputs": [],
   "source": [
    "def plot_sample(x_t, length=0.05):\n",
    "    \"\"\"\n",
    "    Plot a pose\n",
    "    \"\"\"\n",
    "    x, y, theta = x_t\n",
    "    x_tip = x + length * cos(theta)\n",
    "    y_tip = y + length * sin(theta)\n",
    "    plt.plot([x, x_tip], [y, y_tip], 'k-')\n",
    "    "
   ]
  },
  {
   "cell_type": "code",
   "execution_count": 7,
   "metadata": {},
   "outputs": [
    {
     "data": {
      "image/png": "[encoded data removed]",
      "text/plain": [
       "<Figure size 432x288 with 1 Axes>"
      ]
     },
     "metadata": {
      "needs_background": "light"
     },
     "output_type": "display_data"
    }
   ],
   "source": [
    "plt.figure()\n",
    "plt.xlim(0., 2.)\n",
    "plt.ylim(0., 2.)\n",
    "plt.gca().set_aspect('equal', adjustable='box')\n",
    "plt.xlabel(\"x (m)\")\n",
    "plt.ylabel(\"y (m)\")\n",
    "for x_t in sample:\n",
    "    plot_sample(x_t)"
   ]
  },
  {
   "cell_type": "code",
   "execution_count": null,
   "metadata": {},
   "outputs": [],
   "source": []
  }
 ],
 "metadata": {
  "kernelspec": {
   "display_name": "Python 3",
   "language": "python",
   "name": "python3"
  },
  "language_info": {
   "codemirror_mode": {
    "name": "ipython",
    "version": 3
   },
   "file_extension": ".py",
   "mimetype": "text/x-python",
   "name": "python",
   "nbconvert_exporter": "python",
   "pygments_lexer": "ipython3",
   "version": "3.6.7"
  }
 },
 "nbformat": 4,
 "nbformat_minor": 2
}
