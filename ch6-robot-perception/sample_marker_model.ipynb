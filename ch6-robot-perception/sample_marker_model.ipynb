{
 "cells": [
  {
   "cell_type": "code",
   "execution_count": 1,
   "metadata": {},
   "outputs": [],
   "source": [
    "import numpy as np\n",
    "import matplotlib.pyplot as plt\n",
    "from math import cos, sin, pi"
   ]
  },
  {
   "cell_type": "code",
   "execution_count": 3,
   "metadata": {},
   "outputs": [],
   "source": [
    "x_i_var = 0.1\n",
    "y_i_var = 0.1\n",
    "h_f = 200"
   ]
  },
  {
   "cell_type": "code",
   "execution_count": 2,
   "metadata": {},
   "outputs": [],
   "source": [
    "def sample_normal_distribution(b):\n",
    "    \"\"\"\n",
    "    sample normal distribution with 0 mean, variance b\n",
    "    \"\"\"\n",
    "    rand = np.random.uniform(low=-1.0, high=1.0, size=12)\n",
    "    return b * np.sum(rand) / 6"
   ]
  },
  {
   "cell_type": "code",
   "execution_count": 4,
   "metadata": {},
   "outputs": [],
   "source": [
    "def sample_marker_model(marker_global, marker_img):\n",
    "    \"\"\"\n",
    "    Sample marker model to get robot pose in global frame \n",
    "    given marker pose in global frame & in image plane\n",
    "    Input:\n",
    "        marker_global (np.ndarray), shape 3,\n",
    "        marker_img (np.ndarray), shape 3,\n",
    "    Output:\n",
    "        robot_global (np.ndarray), shape 3,\n",
    "    \"\"\"\n",
    "    x_m, y_m, theta_m = marker_global\n",
    "    x_i, y_i, theta_i = marker_img\n",
    "    # robot orientation\n",
    "    theta_r = theta_m - theta_i\n",
    "    k = np.random.randint(low=0, high=4)\n",
    "    theta_r += k*pi/2\n",
    "    # location\n",
    "    x_i_hat = x_i + sample_normal_distribution(x_i_var)\n",
    "    y_i_hat = y_i + sample_normal_distribution(y_i_var)\n",
    "    x_r = x_m - h_f * (x_i * cos(theta_r) - y_i * sin(theta_r))\n",
    "    y_r = y_m - h_f * (x_i * sin(theta_r) + y_i * cos(theta_r))\n",
    "    \n",
    "    return np.array([x_r, y_r, theta_r]) "
   ]
  },
  {
   "cell_type": "code",
   "execution_count": 10,
   "metadata": {},
   "outputs": [],
   "source": [
    "marker_global = np.zeros(3)\n",
    "marker_img = np.array([2., 0., pi/4])\n",
    "robot_pose = [sample_marker_model(marker_global, marker_img) for i in range(1000)]"
   ]
  },
  {
   "cell_type": "code",
   "execution_count": 13,
   "metadata": {},
   "outputs": [],
   "source": [
    "def plot_sample(x_t, length=1.):\n",
    "    \"\"\"\n",
    "    Plot a pose\n",
    "    \"\"\"\n",
    "    x, y, theta = x_t\n",
    "    x_tip = x + length * cos(theta)\n",
    "    y_tip = y + length * sin(theta)\n",
    "    plt.plot([x, x_tip], [y, y_tip], 'k-')"
   ]
  },
  {
   "cell_type": "code",
   "execution_count": 14,
   "metadata": {},
   "outputs": [
    {
     "data": {
      "image/png": "[encoded data removed]",
      "text/plain": [
       "<Figure size 360x360 with 1 Axes>"
      ]
     },
     "metadata": {
      "needs_background": "light"
     },
     "output_type": "display_data"
    }
   ],
   "source": [
    "plt.figure(figsize=(5,5))\n",
    "# plt.xlim(0., 2.)\n",
    "# plt.ylim(0., 2.)\n",
    "plt.gca().set_aspect('equal', adjustable='box')\n",
    "plt.xlabel(\"x (cm)\")\n",
    "plt.ylabel(\"y (cm)\")\n",
    "for x_t in robot_pose:\n",
    "    plot_sample(x_t)"
   ]
  },
  {
   "cell_type": "code",
   "execution_count": null,
   "metadata": {},
   "outputs": [],
   "source": []
  }
 ],
 "metadata": {
  "kernelspec": {
   "display_name": "Python 3",
   "language": "python",
   "name": "python3"
  },
  "language_info": {
   "codemirror_mode": {
    "name": "ipython",
    "version": 3
   },
   "file_extension": ".py",
   "mimetype": "text/x-python",
   "name": "python",
   "nbconvert_exporter": "python",
   "pygments_lexer": "ipython3",
   "version": "3.6.7"
  }
 },
 "nbformat": 4,
 "nbformat_minor": 2
}
